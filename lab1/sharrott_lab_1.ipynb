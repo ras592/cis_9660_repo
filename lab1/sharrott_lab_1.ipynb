{
 "cells": [
  {
   "cell_type": "markdown",
   "metadata": {},
   "source": [
    "### Imports and Settings"
   ]
  },
  {
   "cell_type": "code",
   "execution_count": 1,
   "metadata": {},
   "outputs": [],
   "source": [
    "import matplotlib.pyplot as plt\n",
    "import pandas as pd\n",
    "import seaborn as sns\n",
    "import statsmodels.api as sm\n",
    "from statsmodels.tools import eval_measures\n",
    "from sklearn.model_selection import train_test_split"
   ]
  },
  {
   "cell_type": "code",
   "execution_count": 2,
   "metadata": {},
   "outputs": [],
   "source": [
    "sns.set(style=\"darkgrid\")\n",
    "plt.rcParams[\"figure.figsize\"] = (30,10)"
   ]
  },
  {
   "cell_type": "code",
   "execution_count": 3,
   "metadata": {},
   "outputs": [],
   "source": [
    "# https://realpython.com/python-pandas-tricks/\n",
    "def start():\n",
    "    options = {\n",
    "        'display': {\n",
    "            'max_columns': None,\n",
    "            'max_colwidth': 25,\n",
    "            'expand_frame_repr': False,  # Don't wrap to multiple pages\n",
    "            'max_rows': 14,\n",
    "            'max_seq_items': 50,         # Max length of printed sequence\n",
    "            'precision': 4,\n",
    "            'show_dimensions': False\n",
    "        },\n",
    "        'mode': {\n",
    "            'chained_assignment': None   # Controls SettingWithCopyWarning\n",
    "        }\n",
    "    }\n",
    "\n",
    "    for category, option in options.items():\n",
    "        for op, value in option.items():\n",
    "            pd.set_option(f'{category}.{op}', value)  # Python 3.6+\n",
    "\n",
    "if __name__ == '__main__':\n",
    "    start()\n",
    "    del start  # Clean up namespace in the interpreter\n"
   ]
  },
  {
   "cell_type": "markdown",
   "metadata": {},
   "source": [
    "### Question 1 - Reading in Data"
   ]
  },
  {
   "cell_type": "code",
   "execution_count": 4,
   "metadata": {},
   "outputs": [
    {
     "name": "stderr",
     "output_type": "stream",
     "text": [
      "/Users/richardsharrott/dev/notebooks/env/lib/python3.7/site-packages/IPython/core/interactiveshell.py:3249: DtypeWarning: Columns (22) have mixed types. Specify dtype option on import or set low_memory=False.\n",
      "  if (await self.run_code(code, result,  async_=asy)):\n",
      "/Users/richardsharrott/dev/notebooks/env/lib/python3.7/site-packages/IPython/core/interactiveshell.py:3249: DtypeWarning: Columns (22,49) have mixed types. Specify dtype option on import or set low_memory=False.\n",
      "  if (await self.run_code(code, result,  async_=asy)):\n",
      "/Users/richardsharrott/dev/notebooks/env/lib/python3.7/site-packages/IPython/core/interactiveshell.py:3249: DtypeWarning: Columns (22,32,34,49,55) have mixed types. Specify dtype option on import or set low_memory=False.\n",
      "  if (await self.run_code(code, result,  async_=asy)):\n"
     ]
    }
   ],
   "source": [
    "chunksize = 10 ** 6\n",
    "df = pd.concat([chunk for chunk in pd.read_csv('./properties_2017.csv', chunksize=chunksize)])\n",
    "# Some dtype issues, but I'll probably ignore this for now"
   ]
  },
  {
   "cell_type": "code",
   "execution_count": 5,
   "metadata": {},
   "outputs": [],
   "source": [
    "description_df = df.describe()"
   ]
  },
  {
   "cell_type": "code",
   "execution_count": 6,
   "metadata": {},
   "outputs": [
    {
     "data": {
      "text/html": [
       "<div>\n",
       "<style scoped>\n",
       "    .dataframe tbody tr th:only-of-type {\n",
       "        vertical-align: middle;\n",
       "    }\n",
       "\n",
       "    .dataframe tbody tr th {\n",
       "        vertical-align: top;\n",
       "    }\n",
       "\n",
       "    .dataframe thead th {\n",
       "        text-align: right;\n",
       "    }\n",
       "</style>\n",
       "<table border=\"1\" class=\"dataframe\">\n",
       "  <thead>\n",
       "    <tr style=\"text-align: right;\">\n",
       "      <th></th>\n",
       "      <th>parcelid</th>\n",
       "      <th>airconditioningtypeid</th>\n",
       "      <th>architecturalstyletypeid</th>\n",
       "      <th>basementsqft</th>\n",
       "      <th>bathroomcnt</th>\n",
       "      <th>bedroomcnt</th>\n",
       "      <th>buildingclasstypeid</th>\n",
       "      <th>buildingqualitytypeid</th>\n",
       "      <th>calculatedbathnbr</th>\n",
       "      <th>decktypeid</th>\n",
       "      <th>finishedfloor1squarefeet</th>\n",
       "      <th>calculatedfinishedsquarefeet</th>\n",
       "      <th>finishedsquarefeet12</th>\n",
       "      <th>finishedsquarefeet13</th>\n",
       "      <th>finishedsquarefeet15</th>\n",
       "      <th>finishedsquarefeet50</th>\n",
       "      <th>finishedsquarefeet6</th>\n",
       "      <th>fips</th>\n",
       "      <th>fireplacecnt</th>\n",
       "      <th>fullbathcnt</th>\n",
       "      <th>garagecarcnt</th>\n",
       "      <th>garagetotalsqft</th>\n",
       "      <th>heatingorsystemtypeid</th>\n",
       "      <th>latitude</th>\n",
       "      <th>longitude</th>\n",
       "      <th>lotsizesquarefeet</th>\n",
       "      <th>poolcnt</th>\n",
       "      <th>poolsizesum</th>\n",
       "      <th>pooltypeid10</th>\n",
       "      <th>pooltypeid2</th>\n",
       "      <th>pooltypeid7</th>\n",
       "      <th>propertylandusetypeid</th>\n",
       "      <th>rawcensustractandblock</th>\n",
       "      <th>regionidcity</th>\n",
       "      <th>regionidcounty</th>\n",
       "      <th>regionidneighborhood</th>\n",
       "      <th>regionidzip</th>\n",
       "      <th>roomcnt</th>\n",
       "      <th>storytypeid</th>\n",
       "      <th>threequarterbathnbr</th>\n",
       "      <th>typeconstructiontypeid</th>\n",
       "      <th>unitcnt</th>\n",
       "      <th>yardbuildingsqft17</th>\n",
       "      <th>yardbuildingsqft26</th>\n",
       "      <th>yearbuilt</th>\n",
       "      <th>numberofstories</th>\n",
       "      <th>structuretaxvaluedollarcnt</th>\n",
       "      <th>taxvaluedollarcnt</th>\n",
       "      <th>assessmentyear</th>\n",
       "      <th>landtaxvaluedollarcnt</th>\n",
       "      <th>taxamount</th>\n",
       "      <th>taxdelinquencyyear</th>\n",
       "      <th>censustractandblock</th>\n",
       "    </tr>\n",
       "  </thead>\n",
       "  <tbody>\n",
       "    <tr>\n",
       "      <th>count</th>\n",
       "      <td>2.9852e+06</td>\n",
       "      <td>815362.0000</td>\n",
       "      <td>6061.0000</td>\n",
       "      <td>1627.0000</td>\n",
       "      <td>2.9823e+06</td>\n",
       "      <td>2.9823e+06</td>\n",
       "      <td>12731.0000</td>\n",
       "      <td>1.9414e+06</td>\n",
       "      <td>2.8681e+06</td>\n",
       "      <td>17379.0</td>\n",
       "      <td>203758.0000</td>\n",
       "      <td>2.9401e+06</td>\n",
       "      <td>2.7208e+06</td>\n",
       "      <td>7671.0000</td>\n",
       "      <td>190185.0000</td>\n",
       "      <td>203758.0000</td>\n",
       "      <td>21482.0000</td>\n",
       "      <td>2.9823e+06</td>\n",
       "      <td>313124.0000</td>\n",
       "      <td>2.8681e+06</td>\n",
       "      <td>891008.0000</td>\n",
       "      <td>891008.0000</td>\n",
       "      <td>1.8692e+06</td>\n",
       "      <td>2.9823e+06</td>\n",
       "      <td>2.9823e+06</td>\n",
       "      <td>2.7125e+06</td>\n",
       "      <td>539632.0</td>\n",
       "      <td>27958.0000</td>\n",
       "      <td>17006.0</td>\n",
       "      <td>33056.0</td>\n",
       "      <td>505895.0</td>\n",
       "      <td>2.9823e+06</td>\n",
       "      <td>2.9823e+06</td>\n",
       "      <td>2.9231e+06</td>\n",
       "      <td>2.9823e+06</td>\n",
       "      <td>1.1567e+06</td>\n",
       "      <td>2.9725e+06</td>\n",
       "      <td>2.9822e+06</td>\n",
       "      <td>1623.0</td>\n",
       "      <td>316357.0000</td>\n",
       "      <td>6746.0000</td>\n",
       "      <td>1.9810e+06</td>\n",
       "      <td>81588.0000</td>\n",
       "      <td>2646.0000</td>\n",
       "      <td>2.9374e+06</td>\n",
       "      <td>685676.0000</td>\n",
       "      <td>2.9388e+06</td>\n",
       "      <td>2.9510e+06</td>\n",
       "      <td>2.9823e+06</td>\n",
       "      <td>2.9253e+06</td>\n",
       "      <td>2.9625e+06</td>\n",
       "      <td>56517.0000</td>\n",
       "      <td>2.9102e+06</td>\n",
       "    </tr>\n",
       "    <tr>\n",
       "      <th>mean</th>\n",
       "      <td>1.3326e+07</td>\n",
       "      <td>1.9457</td>\n",
       "      <td>7.2026</td>\n",
       "      <td>647.2207</td>\n",
       "      <td>2.2162e+00</td>\n",
       "      <td>3.0934e+00</td>\n",
       "      <td>3.7347</td>\n",
       "      <td>6.2808e+00</td>\n",
       "      <td>2.3038e+00</td>\n",
       "      <td>66.0</td>\n",
       "      <td>1379.7805</td>\n",
       "      <td>1.8315e+03</td>\n",
       "      <td>1.7640e+03</td>\n",
       "      <td>1178.9167</td>\n",
       "      <td>2754.8692</td>\n",
       "      <td>1392.0291</td>\n",
       "      <td>2427.5552</td>\n",
       "      <td>6.0481e+03</td>\n",
       "      <td>1.1690</td>\n",
       "      <td>2.2481e+00</td>\n",
       "      <td>1.8266</td>\n",
       "      <td>383.1562</td>\n",
       "      <td>4.0838e+00</td>\n",
       "      <td>3.4001e+07</td>\n",
       "      <td>-1.1820e+08</td>\n",
       "      <td>2.2604e+04</td>\n",
       "      <td>1.0</td>\n",
       "      <td>519.7154</td>\n",
       "      <td>1.0</td>\n",
       "      <td>1.0</td>\n",
       "      <td>1.0</td>\n",
       "      <td>2.6005e+02</td>\n",
       "      <td>6.0484e+07</td>\n",
       "      <td>3.4988e+04</td>\n",
       "      <td>2.5691e+03</td>\n",
       "      <td>1.9354e+05</td>\n",
       "      <td>9.6553e+04</td>\n",
       "      <td>1.4744e+00</td>\n",
       "      <td>7.0</td>\n",
       "      <td>1.0106</td>\n",
       "      <td>5.9996</td>\n",
       "      <td>1.1803e+00</td>\n",
       "      <td>321.5416</td>\n",
       "      <td>278.3655</td>\n",
       "      <td>1.9644e+03</td>\n",
       "      <td>1.4010</td>\n",
       "      <td>1.7814e+05</td>\n",
       "      <td>4.4353e+05</td>\n",
       "      <td>2.0160e+03</td>\n",
       "      <td>2.6846e+05</td>\n",
       "      <td>5.4089e+03</td>\n",
       "      <td>13.8917</td>\n",
       "      <td>6.0484e+13</td>\n",
       "    </tr>\n",
       "    <tr>\n",
       "      <th>std</th>\n",
       "      <td>7.9100e+06</td>\n",
       "      <td>3.1605</td>\n",
       "      <td>2.4363</td>\n",
       "      <td>538.7871</td>\n",
       "      <td>1.0782e+00</td>\n",
       "      <td>1.2716e+00</td>\n",
       "      <td>0.5004</td>\n",
       "      <td>1.7299e+00</td>\n",
       "      <td>1.0032e+00</td>\n",
       "      <td>0.0</td>\n",
       "      <td>634.4228</td>\n",
       "      <td>1.9542e+03</td>\n",
       "      <td>1.0314e+03</td>\n",
       "      <td>357.0936</td>\n",
       "      <td>5999.3801</td>\n",
       "      <td>682.3239</td>\n",
       "      <td>7786.1852</td>\n",
       "      <td>2.0241e+01</td>\n",
       "      <td>0.4619</td>\n",
       "      <td>9.9300e-01</td>\n",
       "      <td>0.6089</td>\n",
       "      <td>246.2194</td>\n",
       "      <td>3.2868e+00</td>\n",
       "      <td>2.4352e+05</td>\n",
       "      <td>3.4559e+05</td>\n",
       "      <td>2.4998e+05</td>\n",
       "      <td>0.0</td>\n",
       "      <td>191.3259</td>\n",
       "      <td>0.0</td>\n",
       "      <td>0.0</td>\n",
       "      <td>0.0</td>\n",
       "      <td>1.5931e+01</td>\n",
       "      <td>2.0089e+05</td>\n",
       "      <td>5.0710e+04</td>\n",
       "      <td>7.8868e+02</td>\n",
       "      <td>1.6573e+05</td>\n",
       "      <td>3.6808e+03</td>\n",
       "      <td>2.8399e+00</td>\n",
       "      <td>0.0</td>\n",
       "      <td>0.1206</td>\n",
       "      <td>0.3841</td>\n",
       "      <td>2.4869e+00</td>\n",
       "      <td>236.8848</td>\n",
       "      <td>369.7844</td>\n",
       "      <td>2.3644e+01</td>\n",
       "      <td>0.5391</td>\n",
       "      <td>4.6005e+05</td>\n",
       "      <td>8.1634e+05</td>\n",
       "      <td>6.0399e-02</td>\n",
       "      <td>4.8651e+05</td>\n",
       "      <td>9.6756e+03</td>\n",
       "      <td>2.5622</td>\n",
       "      <td>3.2491e+11</td>\n",
       "    </tr>\n",
       "    <tr>\n",
       "      <th>min</th>\n",
       "      <td>1.0712e+07</td>\n",
       "      <td>1.0000</td>\n",
       "      <td>2.0000</td>\n",
       "      <td>20.0000</td>\n",
       "      <td>0.0000e+00</td>\n",
       "      <td>0.0000e+00</td>\n",
       "      <td>1.0000</td>\n",
       "      <td>1.0000e+00</td>\n",
       "      <td>1.0000e+00</td>\n",
       "      <td>66.0</td>\n",
       "      <td>1.0000</td>\n",
       "      <td>1.0000e+00</td>\n",
       "      <td>1.0000e+00</td>\n",
       "      <td>120.0000</td>\n",
       "      <td>112.0000</td>\n",
       "      <td>3.0000</td>\n",
       "      <td>117.0000</td>\n",
       "      <td>6.0370e+03</td>\n",
       "      <td>1.0000</td>\n",
       "      <td>1.0000e+00</td>\n",
       "      <td>0.0000</td>\n",
       "      <td>0.0000</td>\n",
       "      <td>1.0000e+00</td>\n",
       "      <td>3.3324e+07</td>\n",
       "      <td>-1.1948e+08</td>\n",
       "      <td>1.0000e+02</td>\n",
       "      <td>1.0</td>\n",
       "      <td>19.0000</td>\n",
       "      <td>1.0</td>\n",
       "      <td>1.0</td>\n",
       "      <td>1.0</td>\n",
       "      <td>3.1000e+01</td>\n",
       "      <td>6.0371e+07</td>\n",
       "      <td>3.4910e+03</td>\n",
       "      <td>1.2860e+03</td>\n",
       "      <td>6.9520e+03</td>\n",
       "      <td>9.5982e+04</td>\n",
       "      <td>0.0000e+00</td>\n",
       "      <td>7.0</td>\n",
       "      <td>1.0000</td>\n",
       "      <td>4.0000</td>\n",
       "      <td>1.0000e+00</td>\n",
       "      <td>10.0000</td>\n",
       "      <td>10.0000</td>\n",
       "      <td>1.8010e+03</td>\n",
       "      <td>1.0000</td>\n",
       "      <td>1.0000e+00</td>\n",
       "      <td>1.0000e+00</td>\n",
       "      <td>2.0000e+03</td>\n",
       "      <td>1.0000e+00</td>\n",
       "      <td>2.4000e-01</td>\n",
       "      <td>0.0000</td>\n",
       "      <td>-1.0000e+00</td>\n",
       "    </tr>\n",
       "    <tr>\n",
       "      <th>25%</th>\n",
       "      <td>1.1644e+07</td>\n",
       "      <td>1.0000</td>\n",
       "      <td>7.0000</td>\n",
       "      <td>272.0000</td>\n",
       "      <td>2.0000e+00</td>\n",
       "      <td>2.0000e+00</td>\n",
       "      <td>3.0000</td>\n",
       "      <td>5.0000e+00</td>\n",
       "      <td>2.0000e+00</td>\n",
       "      <td>66.0</td>\n",
       "      <td>1010.0000</td>\n",
       "      <td>1.2150e+03</td>\n",
       "      <td>1.1980e+03</td>\n",
       "      <td>960.0000</td>\n",
       "      <td>1696.0000</td>\n",
       "      <td>1012.0000</td>\n",
       "      <td>1072.0000</td>\n",
       "      <td>6.0370e+03</td>\n",
       "      <td>1.0000</td>\n",
       "      <td>2.0000e+00</td>\n",
       "      <td>2.0000</td>\n",
       "      <td>312.0000</td>\n",
       "      <td>2.0000e+00</td>\n",
       "      <td>3.3827e+07</td>\n",
       "      <td>-1.1839e+08</td>\n",
       "      <td>5.6830e+03</td>\n",
       "      <td>1.0</td>\n",
       "      <td>430.0000</td>\n",
       "      <td>1.0</td>\n",
       "      <td>1.0</td>\n",
       "      <td>1.0</td>\n",
       "      <td>2.6100e+02</td>\n",
       "      <td>6.0374e+07</td>\n",
       "      <td>1.2447e+04</td>\n",
       "      <td>1.2860e+03</td>\n",
       "      <td>4.6736e+04</td>\n",
       "      <td>9.6180e+04</td>\n",
       "      <td>0.0000e+00</td>\n",
       "      <td>7.0</td>\n",
       "      <td>1.0000</td>\n",
       "      <td>6.0000</td>\n",
       "      <td>1.0000e+00</td>\n",
       "      <td>190.0000</td>\n",
       "      <td>96.0000</td>\n",
       "      <td>1.9500e+03</td>\n",
       "      <td>1.0000</td>\n",
       "      <td>7.7666e+04</td>\n",
       "      <td>1.8822e+05</td>\n",
       "      <td>2.0160e+03</td>\n",
       "      <td>7.9700e+04</td>\n",
       "      <td>2.4686e+03</td>\n",
       "      <td>14.0000</td>\n",
       "      <td>6.0374e+13</td>\n",
       "    </tr>\n",
       "    <tr>\n",
       "      <th>50%</th>\n",
       "      <td>1.2545e+07</td>\n",
       "      <td>1.0000</td>\n",
       "      <td>7.0000</td>\n",
       "      <td>535.0000</td>\n",
       "      <td>2.0000e+00</td>\n",
       "      <td>3.0000e+00</td>\n",
       "      <td>4.0000</td>\n",
       "      <td>6.0000e+00</td>\n",
       "      <td>2.0000e+00</td>\n",
       "      <td>66.0</td>\n",
       "      <td>1281.0000</td>\n",
       "      <td>1.5740e+03</td>\n",
       "      <td>1.5420e+03</td>\n",
       "      <td>1296.0000</td>\n",
       "      <td>2173.0000</td>\n",
       "      <td>1284.0000</td>\n",
       "      <td>2008.0000</td>\n",
       "      <td>6.0370e+03</td>\n",
       "      <td>1.0000</td>\n",
       "      <td>2.0000e+00</td>\n",
       "      <td>2.0000</td>\n",
       "      <td>441.0000</td>\n",
       "      <td>2.0000e+00</td>\n",
       "      <td>3.4008e+07</td>\n",
       "      <td>-1.1817e+08</td>\n",
       "      <td>7.0000e+03</td>\n",
       "      <td>1.0</td>\n",
       "      <td>495.0000</td>\n",
       "      <td>1.0</td>\n",
       "      <td>1.0</td>\n",
       "      <td>1.0</td>\n",
       "      <td>2.6100e+02</td>\n",
       "      <td>6.0376e+07</td>\n",
       "      <td>2.5218e+04</td>\n",
       "      <td>3.1010e+03</td>\n",
       "      <td>1.1892e+05</td>\n",
       "      <td>9.6377e+04</td>\n",
       "      <td>0.0000e+00</td>\n",
       "      <td>7.0</td>\n",
       "      <td>1.0000</td>\n",
       "      <td>6.0000</td>\n",
       "      <td>1.0000e+00</td>\n",
       "      <td>270.0000</td>\n",
       "      <td>168.0000</td>\n",
       "      <td>1.9630e+03</td>\n",
       "      <td>1.0000</td>\n",
       "      <td>1.2707e+05</td>\n",
       "      <td>3.2116e+05</td>\n",
       "      <td>2.0160e+03</td>\n",
       "      <td>1.7662e+05</td>\n",
       "      <td>4.0076e+03</td>\n",
       "      <td>14.0000</td>\n",
       "      <td>6.0376e+13</td>\n",
       "    </tr>\n",
       "    <tr>\n",
       "      <th>75%</th>\n",
       "      <td>1.4097e+07</td>\n",
       "      <td>1.0000</td>\n",
       "      <td>7.0000</td>\n",
       "      <td>847.5000</td>\n",
       "      <td>3.0000e+00</td>\n",
       "      <td>4.0000e+00</td>\n",
       "      <td>4.0000</td>\n",
       "      <td>8.0000e+00</td>\n",
       "      <td>3.0000e+00</td>\n",
       "      <td>66.0</td>\n",
       "      <td>1615.0000</td>\n",
       "      <td>2.1400e+03</td>\n",
       "      <td>2.0750e+03</td>\n",
       "      <td>1440.0000</td>\n",
       "      <td>2975.0000</td>\n",
       "      <td>1619.0000</td>\n",
       "      <td>3411.0000</td>\n",
       "      <td>6.0590e+03</td>\n",
       "      <td>1.0000</td>\n",
       "      <td>3.0000e+00</td>\n",
       "      <td>2.0000</td>\n",
       "      <td>494.0000</td>\n",
       "      <td>7.0000e+00</td>\n",
       "      <td>3.4162e+07</td>\n",
       "      <td>-1.1795e+08</td>\n",
       "      <td>9.8930e+03</td>\n",
       "      <td>1.0</td>\n",
       "      <td>594.0000</td>\n",
       "      <td>1.0</td>\n",
       "      <td>1.0</td>\n",
       "      <td>1.0</td>\n",
       "      <td>2.6100e+02</td>\n",
       "      <td>6.0590e+07</td>\n",
       "      <td>4.5457e+04</td>\n",
       "      <td>3.1010e+03</td>\n",
       "      <td>2.7480e+05</td>\n",
       "      <td>9.6974e+04</td>\n",
       "      <td>0.0000e+00</td>\n",
       "      <td>7.0</td>\n",
       "      <td>1.0000</td>\n",
       "      <td>6.0000</td>\n",
       "      <td>1.0000e+00</td>\n",
       "      <td>390.0000</td>\n",
       "      <td>320.0000</td>\n",
       "      <td>1.9810e+03</td>\n",
       "      <td>2.0000</td>\n",
       "      <td>2.0400e+05</td>\n",
       "      <td>5.1407e+05</td>\n",
       "      <td>2.0160e+03</td>\n",
       "      <td>3.2610e+05</td>\n",
       "      <td>6.2305e+03</td>\n",
       "      <td>15.0000</td>\n",
       "      <td>6.0590e+13</td>\n",
       "    </tr>\n",
       "    <tr>\n",
       "      <th>max</th>\n",
       "      <td>1.6960e+08</td>\n",
       "      <td>13.0000</td>\n",
       "      <td>27.0000</td>\n",
       "      <td>8516.0000</td>\n",
       "      <td>3.2000e+01</td>\n",
       "      <td>2.5000e+01</td>\n",
       "      <td>5.0000</td>\n",
       "      <td>1.2000e+01</td>\n",
       "      <td>3.2000e+01</td>\n",
       "      <td>66.0</td>\n",
       "      <td>31303.0000</td>\n",
       "      <td>9.5258e+05</td>\n",
       "      <td>4.2708e+05</td>\n",
       "      <td>2688.0000</td>\n",
       "      <td>820242.0000</td>\n",
       "      <td>41906.0000</td>\n",
       "      <td>952576.0000</td>\n",
       "      <td>6.1110e+03</td>\n",
       "      <td>9.0000</td>\n",
       "      <td>3.2000e+01</td>\n",
       "      <td>25.0000</td>\n",
       "      <td>7749.0000</td>\n",
       "      <td>2.4000e+01</td>\n",
       "      <td>3.4820e+07</td>\n",
       "      <td>-1.1755e+08</td>\n",
       "      <td>3.7100e+08</td>\n",
       "      <td>1.0</td>\n",
       "      <td>17410.0000</td>\n",
       "      <td>1.0</td>\n",
       "      <td>1.0</td>\n",
       "      <td>1.0</td>\n",
       "      <td>2.7900e+02</td>\n",
       "      <td>6.1110e+07</td>\n",
       "      <td>3.9656e+05</td>\n",
       "      <td>3.1010e+03</td>\n",
       "      <td>7.6417e+05</td>\n",
       "      <td>3.9968e+05</td>\n",
       "      <td>9.6000e+01</td>\n",
       "      <td>7.0</td>\n",
       "      <td>7.0000</td>\n",
       "      <td>13.0000</td>\n",
       "      <td>9.9700e+02</td>\n",
       "      <td>7983.0000</td>\n",
       "      <td>6141.0000</td>\n",
       "      <td>2.0160e+03</td>\n",
       "      <td>41.0000</td>\n",
       "      <td>2.5532e+08</td>\n",
       "      <td>3.1962e+08</td>\n",
       "      <td>2.0160e+03</td>\n",
       "      <td>9.4011e+07</td>\n",
       "      <td>3.8232e+06</td>\n",
       "      <td>99.0000</td>\n",
       "      <td>4.8303e+14</td>\n",
       "    </tr>\n",
       "  </tbody>\n",
       "</table>\n",
       "</div>"
      ],
      "text/plain": [
       "         parcelid  airconditioningtypeid  architecturalstyletypeid  basementsqft  bathroomcnt  bedroomcnt  buildingclasstypeid  buildingqualitytypeid  calculatedbathnbr  decktypeid  finishedfloor1squarefeet  calculatedfinishedsquarefeet  finishedsquarefeet12  finishedsquarefeet13  finishedsquarefeet15  finishedsquarefeet50  finishedsquarefeet6        fips  fireplacecnt  fullbathcnt  garagecarcnt  garagetotalsqft  heatingorsystemtypeid    latitude   longitude  lotsizesquarefeet   poolcnt  poolsizesum  pooltypeid10  pooltypeid2  pooltypeid7  propertylandusetypeid  rawcensustractandblock  regionidcity  regionidcounty  regionidneighborhood  regionidzip     roomcnt  storytypeid  threequarterbathnbr  typeconstructiontypeid     unitcnt  yardbuildingsqft17  yardbuildingsqft26   yearbuilt  numberofstories  structuretaxvaluedollarcnt  taxvaluedollarcnt  assessmentyear  landtaxvaluedollarcnt   taxamount  taxdelinquencyyear  censustractandblock\n",
       "count  2.9852e+06            815362.0000                 6061.0000     1627.0000   2.9823e+06  2.9823e+06           12731.0000             1.9414e+06         2.8681e+06     17379.0               203758.0000                2.9401e+06                2.7208e+06             7671.0000           190185.0000           203758.0000           21482.0000  2.9823e+06   313124.0000   2.8681e+06   891008.0000      891008.0000             1.8692e+06  2.9823e+06  2.9823e+06         2.7125e+06  539632.0   27958.0000       17006.0      33056.0     505895.0             2.9823e+06              2.9823e+06    2.9231e+06      2.9823e+06            1.1567e+06   2.9725e+06  2.9822e+06       1623.0          316357.0000               6746.0000  1.9810e+06          81588.0000           2646.0000  2.9374e+06      685676.0000                2.9388e+06           2.9510e+06      2.9823e+06             2.9253e+06  2.9625e+06          56517.0000           2.9102e+06\n",
       "mean   1.3326e+07                 1.9457                    7.2026      647.2207   2.2162e+00  3.0934e+00               3.7347             6.2808e+00         2.3038e+00        66.0                 1379.7805                1.8315e+03                1.7640e+03             1178.9167             2754.8692             1392.0291            2427.5552  6.0481e+03        1.1690   2.2481e+00        1.8266         383.1562             4.0838e+00  3.4001e+07 -1.1820e+08         2.2604e+04       1.0     519.7154           1.0          1.0          1.0             2.6005e+02              6.0484e+07    3.4988e+04      2.5691e+03            1.9354e+05   9.6553e+04  1.4744e+00          7.0               1.0106                  5.9996  1.1803e+00            321.5416            278.3655  1.9644e+03           1.4010                1.7814e+05           4.4353e+05      2.0160e+03             2.6846e+05  5.4089e+03             13.8917           6.0484e+13\n",
       "std    7.9100e+06                 3.1605                    2.4363      538.7871   1.0782e+00  1.2716e+00               0.5004             1.7299e+00         1.0032e+00         0.0                  634.4228                1.9542e+03                1.0314e+03              357.0936             5999.3801              682.3239            7786.1852  2.0241e+01        0.4619   9.9300e-01        0.6089         246.2194             3.2868e+00  2.4352e+05  3.4559e+05         2.4998e+05       0.0     191.3259           0.0          0.0          0.0             1.5931e+01              2.0089e+05    5.0710e+04      7.8868e+02            1.6573e+05   3.6808e+03  2.8399e+00          0.0               0.1206                  0.3841  2.4869e+00            236.8848            369.7844  2.3644e+01           0.5391                4.6005e+05           8.1634e+05      6.0399e-02             4.8651e+05  9.6756e+03              2.5622           3.2491e+11\n",
       "min    1.0712e+07                 1.0000                    2.0000       20.0000   0.0000e+00  0.0000e+00               1.0000             1.0000e+00         1.0000e+00        66.0                    1.0000                1.0000e+00                1.0000e+00              120.0000              112.0000                3.0000             117.0000  6.0370e+03        1.0000   1.0000e+00        0.0000           0.0000             1.0000e+00  3.3324e+07 -1.1948e+08         1.0000e+02       1.0      19.0000           1.0          1.0          1.0             3.1000e+01              6.0371e+07    3.4910e+03      1.2860e+03            6.9520e+03   9.5982e+04  0.0000e+00          7.0               1.0000                  4.0000  1.0000e+00             10.0000             10.0000  1.8010e+03           1.0000                1.0000e+00           1.0000e+00      2.0000e+03             1.0000e+00  2.4000e-01              0.0000          -1.0000e+00\n",
       "25%    1.1644e+07                 1.0000                    7.0000      272.0000   2.0000e+00  2.0000e+00               3.0000             5.0000e+00         2.0000e+00        66.0                 1010.0000                1.2150e+03                1.1980e+03              960.0000             1696.0000             1012.0000            1072.0000  6.0370e+03        1.0000   2.0000e+00        2.0000         312.0000             2.0000e+00  3.3827e+07 -1.1839e+08         5.6830e+03       1.0     430.0000           1.0          1.0          1.0             2.6100e+02              6.0374e+07    1.2447e+04      1.2860e+03            4.6736e+04   9.6180e+04  0.0000e+00          7.0               1.0000                  6.0000  1.0000e+00            190.0000             96.0000  1.9500e+03           1.0000                7.7666e+04           1.8822e+05      2.0160e+03             7.9700e+04  2.4686e+03             14.0000           6.0374e+13\n",
       "50%    1.2545e+07                 1.0000                    7.0000      535.0000   2.0000e+00  3.0000e+00               4.0000             6.0000e+00         2.0000e+00        66.0                 1281.0000                1.5740e+03                1.5420e+03             1296.0000             2173.0000             1284.0000            2008.0000  6.0370e+03        1.0000   2.0000e+00        2.0000         441.0000             2.0000e+00  3.4008e+07 -1.1817e+08         7.0000e+03       1.0     495.0000           1.0          1.0          1.0             2.6100e+02              6.0376e+07    2.5218e+04      3.1010e+03            1.1892e+05   9.6377e+04  0.0000e+00          7.0               1.0000                  6.0000  1.0000e+00            270.0000            168.0000  1.9630e+03           1.0000                1.2707e+05           3.2116e+05      2.0160e+03             1.7662e+05  4.0076e+03             14.0000           6.0376e+13\n",
       "75%    1.4097e+07                 1.0000                    7.0000      847.5000   3.0000e+00  4.0000e+00               4.0000             8.0000e+00         3.0000e+00        66.0                 1615.0000                2.1400e+03                2.0750e+03             1440.0000             2975.0000             1619.0000            3411.0000  6.0590e+03        1.0000   3.0000e+00        2.0000         494.0000             7.0000e+00  3.4162e+07 -1.1795e+08         9.8930e+03       1.0     594.0000           1.0          1.0          1.0             2.6100e+02              6.0590e+07    4.5457e+04      3.1010e+03            2.7480e+05   9.6974e+04  0.0000e+00          7.0               1.0000                  6.0000  1.0000e+00            390.0000            320.0000  1.9810e+03           2.0000                2.0400e+05           5.1407e+05      2.0160e+03             3.2610e+05  6.2305e+03             15.0000           6.0590e+13\n",
       "max    1.6960e+08                13.0000                   27.0000     8516.0000   3.2000e+01  2.5000e+01               5.0000             1.2000e+01         3.2000e+01        66.0                31303.0000                9.5258e+05                4.2708e+05             2688.0000           820242.0000            41906.0000          952576.0000  6.1110e+03        9.0000   3.2000e+01       25.0000        7749.0000             2.4000e+01  3.4820e+07 -1.1755e+08         3.7100e+08       1.0   17410.0000           1.0          1.0          1.0             2.7900e+02              6.1110e+07    3.9656e+05      3.1010e+03            7.6417e+05   3.9968e+05  9.6000e+01          7.0               7.0000                 13.0000  9.9700e+02           7983.0000           6141.0000  2.0160e+03          41.0000                2.5532e+08           3.1962e+08      2.0160e+03             9.4011e+07  3.8232e+06             99.0000           4.8303e+14"
      ]
     },
     "execution_count": 6,
     "metadata": {},
     "output_type": "execute_result"
    }
   ],
   "source": [
    "description_df"
   ]
  },
  {
   "cell_type": "code",
   "execution_count": 7,
   "metadata": {},
   "outputs": [
    {
     "data": {
      "text/plain": [
       "['decktypeid',\n",
       " 'poolcnt',\n",
       " 'pooltypeid10',\n",
       " 'pooltypeid2',\n",
       " 'pooltypeid7',\n",
       " 'storytypeid']"
      ]
     },
     "execution_count": 7,
     "metadata": {},
     "output_type": "execute_result"
    }
   ],
   "source": [
    "# Right off the bat let's remove these since they don't vary\n",
    "to_drop = [i for i in (description_df.loc['std'] == 0).iloc[[i for i in description_df.loc['std'] == 0]].index]\n",
    "to_drop"
   ]
  },
  {
   "cell_type": "code",
   "execution_count": 8,
   "metadata": {},
   "outputs": [],
   "source": [
    "df = df.drop(to_drop, axis=1)"
   ]
  },
  {
   "cell_type": "code",
   "execution_count": 9,
   "metadata": {
    "scrolled": true
   },
   "outputs": [
    {
     "data": {
      "text/plain": [
       "parcelid                          0\n",
       "airconditioningtypeid       2169855\n",
       "architecturalstyletypeid    2979156\n",
       "basementsqft                2983590\n",
       "bathroomcnt                    2957\n",
       "                             ...   \n",
       "landtaxvaluedollarcnt         59926\n",
       "taxamount                     22752\n",
       "taxdelinquencyflag          2928702\n",
       "taxdelinquencyyear          2928700\n",
       "censustractandblock           74985\n",
       "dtype: int64"
      ]
     },
     "execution_count": 9,
     "metadata": {},
     "output_type": "execute_result"
    }
   ],
   "source": [
    "df.isna().sum()"
   ]
  },
  {
   "cell_type": "code",
   "execution_count": 10,
   "metadata": {},
   "outputs": [
    {
     "data": {
      "text/plain": [
       "(2985217, 52)"
      ]
     },
     "execution_count": 10,
     "metadata": {},
     "output_type": "execute_result"
    }
   ],
   "source": [
    "df.shape"
   ]
  },
  {
   "cell_type": "code",
   "execution_count": 11,
   "metadata": {},
   "outputs": [],
   "source": [
    "train_df = pd.read_csv('./train_2017.csv')"
   ]
  },
  {
   "cell_type": "code",
   "execution_count": 12,
   "metadata": {},
   "outputs": [
    {
     "data": {
      "text/html": [
       "<div>\n",
       "<style scoped>\n",
       "    .dataframe tbody tr th:only-of-type {\n",
       "        vertical-align: middle;\n",
       "    }\n",
       "\n",
       "    .dataframe tbody tr th {\n",
       "        vertical-align: top;\n",
       "    }\n",
       "\n",
       "    .dataframe thead th {\n",
       "        text-align: right;\n",
       "    }\n",
       "</style>\n",
       "<table border=\"1\" class=\"dataframe\">\n",
       "  <thead>\n",
       "    <tr style=\"text-align: right;\">\n",
       "      <th></th>\n",
       "      <th>parcelid</th>\n",
       "      <th>logerror</th>\n",
       "    </tr>\n",
       "  </thead>\n",
       "  <tbody>\n",
       "    <tr>\n",
       "      <th>count</th>\n",
       "      <td>7.7613e+04</td>\n",
       "      <td>77613.0000</td>\n",
       "    </tr>\n",
       "    <tr>\n",
       "      <th>mean</th>\n",
       "      <td>1.3008e+07</td>\n",
       "      <td>0.0168</td>\n",
       "    </tr>\n",
       "    <tr>\n",
       "      <th>std</th>\n",
       "      <td>3.5187e+06</td>\n",
       "      <td>0.1709</td>\n",
       "    </tr>\n",
       "    <tr>\n",
       "      <th>min</th>\n",
       "      <td>1.0712e+07</td>\n",
       "      <td>-4.6554</td>\n",
       "    </tr>\n",
       "    <tr>\n",
       "      <th>25%</th>\n",
       "      <td>1.1538e+07</td>\n",
       "      <td>-0.0243</td>\n",
       "    </tr>\n",
       "    <tr>\n",
       "      <th>50%</th>\n",
       "      <td>1.2530e+07</td>\n",
       "      <td>0.0067</td>\n",
       "    </tr>\n",
       "    <tr>\n",
       "      <th>75%</th>\n",
       "      <td>1.4211e+07</td>\n",
       "      <td>0.0393</td>\n",
       "    </tr>\n",
       "    <tr>\n",
       "      <th>max</th>\n",
       "      <td>1.6769e+08</td>\n",
       "      <td>5.2630</td>\n",
       "    </tr>\n",
       "  </tbody>\n",
       "</table>\n",
       "</div>"
      ],
      "text/plain": [
       "         parcelid    logerror\n",
       "count  7.7613e+04  77613.0000\n",
       "mean   1.3008e+07      0.0168\n",
       "std    3.5187e+06      0.1709\n",
       "min    1.0712e+07     -4.6554\n",
       "25%    1.1538e+07     -0.0243\n",
       "50%    1.2530e+07      0.0067\n",
       "75%    1.4211e+07      0.0393\n",
       "max    1.6769e+08      5.2630"
      ]
     },
     "execution_count": 12,
     "metadata": {},
     "output_type": "execute_result"
    }
   ],
   "source": [
    "train_df.describe()"
   ]
  },
  {
   "cell_type": "code",
   "execution_count": 13,
   "metadata": {},
   "outputs": [
    {
     "data": {
      "text/plain": [
       "(77613, 3)"
      ]
     },
     "execution_count": 13,
     "metadata": {},
     "output_type": "execute_result"
    }
   ],
   "source": [
    "train_df.shape"
   ]
  },
  {
   "cell_type": "markdown",
   "metadata": {},
   "source": [
    "### Question 2 - Joining!!\n",
    "#### We'll be losing some rows here..."
   ]
  },
  {
   "cell_type": "code",
   "execution_count": 14,
   "metadata": {},
   "outputs": [
    {
     "data": {
      "text/plain": [
       "(77613, 54)"
      ]
     },
     "execution_count": 14,
     "metadata": {},
     "output_type": "execute_result"
    }
   ],
   "source": [
    "_df = pd.merge(df, train_df, how='inner', on='parcelid')\n",
    "_df.shape"
   ]
  },
  {
   "cell_type": "code",
   "execution_count": 15,
   "metadata": {},
   "outputs": [
    {
     "data": {
      "text/plain": [
       "False"
      ]
     },
     "execution_count": 15,
     "metadata": {},
     "output_type": "execute_result"
    }
   ],
   "source": [
    "# Checking if we have empty columns\n",
    "any([i for i in (_df.isna().sum() == 77613)])"
   ]
  },
  {
   "cell_type": "markdown",
   "metadata": {},
   "source": [
    "### Question 3 - Train/Validation Split"
   ]
  },
  {
   "cell_type": "code",
   "execution_count": 16,
   "metadata": {},
   "outputs": [],
   "source": [
    "cols = list(_df.columns)\n",
    "cols.remove('logerror')\n",
    "X = _df[cols]\n",
    "y = _df[['logerror']]"
   ]
  },
  {
   "cell_type": "code",
   "execution_count": 17,
   "metadata": {},
   "outputs": [],
   "source": [
    "train_X, val_X, train_y, val_y = train_test_split(X, y, test_size=.3, random_state=0)"
   ]
  },
  {
   "cell_type": "markdown",
   "metadata": {},
   "source": [
    "### Question 4 - Describe our training set response variable logerror"
   ]
  },
  {
   "cell_type": "code",
   "execution_count": 18,
   "metadata": {},
   "outputs": [
    {
     "data": {
      "text/html": [
       "<div>\n",
       "<style scoped>\n",
       "    .dataframe tbody tr th:only-of-type {\n",
       "        vertical-align: middle;\n",
       "    }\n",
       "\n",
       "    .dataframe tbody tr th {\n",
       "        vertical-align: top;\n",
       "    }\n",
       "\n",
       "    .dataframe thead th {\n",
       "        text-align: right;\n",
       "    }\n",
       "</style>\n",
       "<table border=\"1\" class=\"dataframe\">\n",
       "  <thead>\n",
       "    <tr style=\"text-align: right;\">\n",
       "      <th></th>\n",
       "      <th>logerror</th>\n",
       "    </tr>\n",
       "  </thead>\n",
       "  <tbody>\n",
       "    <tr>\n",
       "      <th>count</th>\n",
       "      <td>54329.0000</td>\n",
       "    </tr>\n",
       "    <tr>\n",
       "      <th>mean</th>\n",
       "      <td>0.0175</td>\n",
       "    </tr>\n",
       "    <tr>\n",
       "      <th>std</th>\n",
       "      <td>0.1697</td>\n",
       "    </tr>\n",
       "    <tr>\n",
       "      <th>min</th>\n",
       "      <td>-3.7370</td>\n",
       "    </tr>\n",
       "    <tr>\n",
       "      <th>25%</th>\n",
       "      <td>-0.0244</td>\n",
       "    </tr>\n",
       "    <tr>\n",
       "      <th>50%</th>\n",
       "      <td>0.0067</td>\n",
       "    </tr>\n",
       "    <tr>\n",
       "      <th>75%</th>\n",
       "      <td>0.0394</td>\n",
       "    </tr>\n",
       "    <tr>\n",
       "      <th>max</th>\n",
       "      <td>5.2630</td>\n",
       "    </tr>\n",
       "  </tbody>\n",
       "</table>\n",
       "</div>"
      ],
      "text/plain": [
       "         logerror\n",
       "count  54329.0000\n",
       "mean       0.0175\n",
       "std        0.1697\n",
       "min       -3.7370\n",
       "25%       -0.0244\n",
       "50%        0.0067\n",
       "75%        0.0394\n",
       "max        5.2630"
      ]
     },
     "execution_count": 18,
     "metadata": {},
     "output_type": "execute_result"
    }
   ],
   "source": [
    "descr_df = train_y.describe()\n",
    "descr_df"
   ]
  },
  {
   "cell_type": "code",
   "execution_count": 19,
   "metadata": {},
   "outputs": [
    {
     "name": "stdout",
     "output_type": "stream",
     "text": [
      "Mean: 0.01745552099604493\n",
      "Median: 0.006705911633270001\n",
      "Range: 9.000017100480001\n",
      "Standard Deviation: 0.16973635309062537\n"
     ]
    }
   ],
   "source": [
    "print(f\"\"\"Mean: {float(descr_df.loc['mean'])}\n",
    "Median: {float(descr_df.loc['50%'])}\n",
    "Range: {float(descr_df.loc['max']) - float(descr_df.loc['min'])}\n",
    "Standard Deviation: {float(descr_df.loc['std'])}\"\"\")"
   ]
  },
  {
   "cell_type": "code",
   "execution_count": 20,
   "metadata": {},
   "outputs": [
    {
     "data": {
      "text/plain": [
       "9.723935087877596"
      ]
     },
     "execution_count": 20,
     "metadata": {},
     "output_type": "execute_result"
    }
   ],
   "source": [
    "# Curious how to interpret a high coefficient of variation for the dataset...\n",
    "cv = float(descr_df.loc['std'])/float(descr_df.loc['mean'])\n",
    "cv"
   ]
  },
  {
   "cell_type": "markdown",
   "metadata": {},
   "source": [
    "### Question 5 - NaN time"
   ]
  },
  {
   "cell_type": "code",
   "execution_count": 21,
   "metadata": {},
   "outputs": [
    {
     "data": {
      "text/plain": [
       "0"
      ]
     },
     "execution_count": 21,
     "metadata": {},
     "output_type": "execute_result"
    }
   ],
   "source": [
    "# For good measure let's check the Ys first\n",
    "sum((int(train_y.isna().sum()), int(val_y.isna().sum())))\n",
    "# 0, Good"
   ]
  },
  {
   "cell_type": "code",
   "execution_count": 22,
   "metadata": {},
   "outputs": [
    {
     "data": {
      "text/plain": [
       "0"
      ]
     },
     "execution_count": 22,
     "metadata": {},
     "output_type": "execute_result"
    }
   ],
   "source": [
    "# First nothing should be NaN in our joining key\n",
    "train_X['parcelid'].isna().sum()\n",
    "# 0, Good"
   ]
  },
  {
   "cell_type": "code",
   "execution_count": 23,
   "metadata": {},
   "outputs": [
    {
     "data": {
      "text/plain": [
       "Index(['parcelid'], dtype='object')"
      ]
     },
     "execution_count": 23,
     "metadata": {},
     "output_type": "execute_result"
    }
   ],
   "source": [
    "# There aren't any other integer columns, but there should be... Let's check float64\n",
    "train_X.select_dtypes(include='int64').columns"
   ]
  },
  {
   "cell_type": "code",
   "execution_count": 24,
   "metadata": {},
   "outputs": [
    {
     "data": {
      "text/plain": [
       "Index(['airconditioningtypeid', 'architecturalstyletypeid', 'basementsqft',\n",
       "       'bathroomcnt', 'bedroomcnt', 'buildingclasstypeid',\n",
       "       'buildingqualitytypeid', 'calculatedbathnbr',\n",
       "       'finishedfloor1squarefeet', 'calculatedfinishedsquarefeet',\n",
       "       'finishedsquarefeet12', 'finishedsquarefeet13', 'finishedsquarefeet15',\n",
       "       'finishedsquarefeet50', 'finishedsquarefeet6', 'fips', 'fireplacecnt',\n",
       "       'fullbathcnt', 'garagecarcnt', 'garagetotalsqft',\n",
       "       'heatingorsystemtypeid', 'latitude', 'longitude', 'lotsizesquarefeet',\n",
       "       'poolsizesum', 'propertylandusetypeid', 'rawcensustractandblock',\n",
       "       'regionidcity', 'regionidcounty', 'regionidneighborhood', 'regionidzip',\n",
       "       'roomcnt', 'threequarterbathnbr', 'typeconstructiontypeid', 'unitcnt',\n",
       "       'yardbuildingsqft17', 'yardbuildingsqft26', 'yearbuilt',\n",
       "       'numberofstories', 'structuretaxvaluedollarcnt', 'taxvaluedollarcnt',\n",
       "       'assessmentyear', 'landtaxvaluedollarcnt', 'taxamount',\n",
       "       'taxdelinquencyyear', 'censustractandblock'],\n",
       "      dtype='object')"
      ]
     },
     "execution_count": 24,
     "metadata": {},
     "output_type": "execute_result"
    }
   ],
   "source": [
    "# As I mentioned on import I should go back and recast these count columns,\n",
    "# but I am fairly sure you can have a half bathroom\n",
    "# Not so sure about half fireplaces...\n",
    "train_X.select_dtypes(include='float64').columns"
   ]
  },
  {
   "cell_type": "markdown",
   "metadata": {},
   "source": [
    "### Question 6 - Replace NaN Values"
   ]
  },
  {
   "cell_type": "code",
   "execution_count": 70,
   "metadata": {},
   "outputs": [
    {
     "name": "stdout",
     "output_type": "stream",
     "text": [
      "Column: bedroomcnt with NaN value of: 3.0\n",
      "Column: fireplacecnt with NaN value of: 1.0\n",
      "Column: fullbathcnt with NaN value of: 2.0\n",
      "Column: garagecarcnt with NaN value of: 2.0\n",
      "Column: roomcnt with NaN value of: 0.0\n",
      "Column: unitcnt with NaN value of: 1.0\n",
      "Column: yearbuilt with NaN value of: 1970.0\n",
      "Column: numberofstories with NaN value of: 1.0\n",
      "Column: assessmentyear with NaN value of: 2016.0\n",
      "Column: taxdelinquencyyear with NaN value of: 15.0\n",
      "Column: bathroomcnt with NaN value of: 2.2976247468237894\n",
      "Column: basementsqft with NaN value of: 532.0\n",
      "Column: finishedfloor1squarefeet with NaN value of: 1369.5136741973838\n",
      "Column: calculatedfinishedsquarefeet with NaN value of: 1784.1820430464797\n",
      "Column: finishedsquarefeet12 with NaN value of: 1759.529545937796\n",
      "Column: finishedsquarefeet13 with NaN value of: 1378.0\n",
      "Column: finishedsquarefeet15 with NaN value of: 2338.3136704119856\n",
      "Column: finishedsquarefeet50 with NaN value of: 1384.032104637336\n",
      "Column: finishedsquarefeet6 with NaN value of: 2167.772893772894\n",
      "Column: garagetotalsqft with NaN value of: 350.2882938282647\n",
      "Column: lotsizesquarefeet with NaN value of: 29405.269237900982\n",
      "Column: poolsizesum with NaN value of: 519.5495934959347\n",
      "Column: threequarterbathnbr with NaN value of: 1.0097279007472155\n",
      "Column: yardbuildingsqft17 with NaN value of: 304.35624626419605\n",
      "Column: yardbuildingsqft26 with NaN value of: 220.2916666666666\n",
      "Column: structuretaxvaluedollarcnt with NaN value of: 189186.39168433668\n",
      "Column: taxvaluedollarcnt with NaN value of: 490212.73384275456\n",
      "Column: landtaxvaluedollarcnt with NaN value of: 301293.148870353\n",
      "Column: taxamount with NaN value of: 5990.511115141694\n"
     ]
    }
   ],
   "source": [
    "# Let's avoid categorical types\n",
    "# Discrete Columns to be replaced with median - that half fireplace problem\n",
    "disc_cols = [\n",
    "    'bedroomcnt',\n",
    "    'fireplacecnt',\n",
    "    'fullbathcnt',\n",
    "    'garagecarcnt',\n",
    "    'roomcnt',\n",
    "    'unitcnt',\n",
    "    'yearbuilt',  # I don't like this here.. maybe impute this from other factors (size of house, rooms, etc.)\n",
    "    'numberofstories',\n",
    "    'assessmentyear',\n",
    "    'taxdelinquencyyear'\n",
    "]\n",
    "for col in disc_cols:\n",
    "    imputted_value = train_X[col].median()\n",
    "    print(f'Column: {col} with NaN value of: {imputted_value}')\n",
    "    train_X[col].fillna(imputted_value, inplace=True)\n",
    "    val_X[col].fillna(imputted_value, inplace=True)\n",
    "\n",
    "# Continuous Columns to be replaced with mean\n",
    "# I'll stick bathrooms in here too because of the concept of half baths and maybe I don't know what a quarter bath is\n",
    "cont_cols = [\n",
    "    'bathroomcnt',\n",
    "    'basementsqft',\n",
    "    'finishedfloor1squarefeet',\n",
    "    'calculatedfinishedsquarefeet',\n",
    "    'finishedsquarefeet12',\n",
    "    'finishedsquarefeet13',\n",
    "    'finishedsquarefeet15',\n",
    "    'finishedsquarefeet50',\n",
    "    'finishedsquarefeet6',\n",
    "    'garagetotalsqft',\n",
    "    'lotsizesquarefeet',\n",
    "    'poolsizesum',\n",
    "    'threequarterbathnbr',\n",
    "    'yardbuildingsqft17',\n",
    "    'yardbuildingsqft26',\n",
    "    'structuretaxvaluedollarcnt',\n",
    "    'taxvaluedollarcnt',\n",
    "    'landtaxvaluedollarcnt',\n",
    "    'taxamount',\n",
    "]\n",
    "for col in cont_cols:\n",
    "    imputted_value = train_X[col].mean()\n",
    "    print(f'Column: {col} with NaN value of: {imputted_value}')\n",
    "    train_X[col].fillna(imputted_value, inplace=True)\n",
    "    val_X[col].fillna(imputted_value, inplace=True)"
   ]
  },
  {
   "cell_type": "markdown",
   "metadata": {},
   "source": [
    "## My mistake as we were supposed to do 5 variables"
   ]
  },
  {
   "cell_type": "markdown",
   "metadata": {},
   "source": [
    "### Question 7 - Running Linear Regression with 5 Predictors"
   ]
  },
  {
   "cell_type": "code",
   "execution_count": 26,
   "metadata": {},
   "outputs": [],
   "source": [
    "# I'll stick with quantitative variables\n",
    "cols_of_interest = disc_cols + cont_cols + ['logerror']"
   ]
  },
  {
   "cell_type": "code",
   "execution_count": 80,
   "metadata": {},
   "outputs": [
    {
     "data": {
      "text/plain": [
       "{'logerror': 1.0,\n",
       " 'taxdelinquencyyear': 0.3255105891303936,\n",
       " 'finishedsquarefeet6': 0.2395395905040274,\n",
       " 'poolsizesum': 0.21382672284195928,\n",
       " 'finishedsquarefeet15': 0.15938057648567674,\n",
       " 'finishedsquarefeet50': 0.08148826889071309,\n",
       " 'finishedfloor1squarefeet': 0.08148826889071309,\n",
       " 'garagecarcnt': 0.07796931929244005,\n",
       " 'garagetotalsqft': 0.07435442185693769,\n",
       " 'lotsizesquarefeet': 0.07174391388196427,\n",
       " 'numberofstories': 0.06493449659155362,\n",
       " 'bedroomcnt': 0.05170004206605849,\n",
       " 'finishedsquarefeet12': 0.04779075684871766,\n",
       " 'calculatedfinishedsquarefeet': 0.04282519219094687,\n",
       " 'threequarterbathnbr': 0.030625625367033057,\n",
       " 'yearbuilt': 0.030506130425266925,\n",
       " 'roomcnt': 0.027871378081510783,\n",
       " 'fireplacecnt': 0.024738601850504083,\n",
       " 'unitcnt': 0.018529061579302425,\n",
       " 'bathroomcnt': 0.01793156100884487,\n",
       " 'structuretaxvaluedollarcnt': 0.014134387796505573,\n",
       " 'landtaxvaluedollarcnt': 0.013590348490476235,\n",
       " 'yardbuildingsqft17': 0.013394657670415134,\n",
       " 'fullbathcnt': 0.0027174517976139793,\n",
       " 'taxvaluedollarcnt': 0.0008640252703783364,\n",
       " 'taxamount': 0.0008545903810095636,\n",
       " 'assessmentyear': nan,\n",
       " 'basementsqft': nan,\n",
       " 'finishedsquarefeet13': nan,\n",
       " 'yardbuildingsqft26': nan}"
      ]
     },
     "execution_count": 80,
     "metadata": {},
     "output_type": "execute_result"
    }
   ],
   "source": [
    "dict(abs(_df[cols_of_interest].sample(n=1000).corr().loc['logerror']).sort_values(ascending=False))"
   ]
  },
  {
   "cell_type": "code",
   "execution_count": 81,
   "metadata": {},
   "outputs": [
    {
     "name": "stdout",
     "output_type": "stream",
     "text": [
      "                            OLS Regression Results                            \n",
      "==============================================================================\n",
      "Dep. Variable:               logerror   R-squared:                       0.001\n",
      "Model:                            OLS   Adj. R-squared:                  0.001\n",
      "Method:                 Least Squares   F-statistic:                     13.59\n",
      "Date:                Fri, 05 Feb 2021   Prob (F-statistic):           2.77e-13\n",
      "Time:                        21:46:12   Log-Likelihood:                 19298.\n",
      "No. Observations:               54329   AIC:                        -3.858e+04\n",
      "Df Residuals:                   54323   BIC:                        -3.853e+04\n",
      "Df Model:                           5                                         \n",
      "Covariance Type:            nonrobust                                         \n",
      "=======================================================================================\n",
      "                          coef    std err          t      P>|t|      [0.025      0.975]\n",
      "---------------------------------------------------------------------------------------\n",
      "const                  -0.0609      0.018     -3.359      0.001      -0.096      -0.025\n",
      "bathroomcnt             0.0013      0.001      1.317      0.188      -0.001       0.003\n",
      "finishedsquarefeet6  2.716e-05   8.28e-06      3.281      0.001    1.09e-05    4.34e-05\n",
      "bedroomcnt              0.0037      0.001      4.468      0.000       0.002       0.005\n",
      "lotsizesquarefeet    1.584e-08   7.16e-09      2.212      0.027     1.8e-09    2.99e-08\n",
      "numberofstories         0.0043      0.002      1.871      0.061      -0.000       0.009\n",
      "==============================================================================\n",
      "Omnibus:                    56646.069   Durbin-Watson:                   2.004\n",
      "Prob(Omnibus):                  0.000   Jarque-Bera (JB):         25193460.293\n",
      "Skew:                           4.538   Prob(JB):                         0.00\n",
      "Kurtosis:                     108.104   Cond. No.                     2.67e+06\n",
      "==============================================================================\n",
      "\n",
      "Warnings:\n",
      "[1] Standard Errors assume that the covariance matrix of the errors is correctly specified.\n",
      "[2] The condition number is large, 2.67e+06. This might indicate that there are\n",
      "strong multicollinearity or other numerical problems.\n"
     ]
    }
   ],
   "source": [
    "# Predictors\n",
    "# bathroomcnt - bathrooms and bedrooms seems like a big question but low correlation\n",
    "# finishedsquarefeet6 - Seems like size of house makes sense with highs correlation in the group\n",
    "# bedroomcnt - bathrooms and bedrooms seems like a big question but low correlation\n",
    "# lotsizesquarefeet - I would assume the land is pretty expensive\n",
    "# numberofstories - ranch vs colonial seems like a pricey question\n",
    "\n",
    "# Linear Regression Modeling\n",
    "train_x_values = train_X[['bathroomcnt', 'finishedsquarefeet6', 'bedroomcnt', 'lotsizesquarefeet', 'numberofstories']]\n",
    "# Not sure about this, but getting shape error without adding this add_constant\n",
    "# adding a constant\n",
    "X = sm.add_constant(train_x_values)\n",
    "\n",
    "model = sm.OLS(train_y, X).fit()\n",
    "predictions = model.predict(X)\n",
    "\n",
    "print_model = model.summary()\n",
    "print(print_model)"
   ]
  },
  {
   "cell_type": "markdown",
   "metadata": {},
   "source": [
    "### Question 8 - Model Metrics"
   ]
  },
  {
   "cell_type": "markdown",
   "metadata": {},
   "source": [
    "#### Part A - R-Squared Values"
   ]
  },
  {
   "cell_type": "code",
   "execution_count": 82,
   "metadata": {},
   "outputs": [
    {
     "name": "stdout",
     "output_type": "stream",
     "text": [
      "R-Squared: 0.0012495401791441374\n",
      "R-Squared Adjusted: 0.0011576131445711901\n"
     ]
    }
   ],
   "source": [
    "print(f'R-Squared: {model.rsquared}\\nR-Squared Adjusted: {model.rsquared_adj}')"
   ]
  },
  {
   "cell_type": "markdown",
   "metadata": {},
   "source": [
    "#### Part B - P-Values"
   ]
  },
  {
   "cell_type": "code",
   "execution_count": 83,
   "metadata": {},
   "outputs": [
    {
     "data": {
      "text/plain": [
       "bedroomcnt             7.9262e-06\n",
       "const                  7.8243e-04\n",
       "finishedsquarefeet6    1.0367e-03\n",
       "lotsizesquarefeet      2.6985e-02\n",
       "numberofstories        6.1315e-02\n",
       "bathroomcnt            1.8790e-01\n",
       "dtype: float64"
      ]
     },
     "execution_count": 83,
     "metadata": {},
     "output_type": "execute_result"
    }
   ],
   "source": [
    "# P-Values\n",
    "model.pvalues.sort_values()"
   ]
  },
  {
   "cell_type": "markdown",
   "metadata": {},
   "source": [
    "#### Part C - RSME"
   ]
  },
  {
   "cell_type": "code",
   "execution_count": 84,
   "metadata": {},
   "outputs": [
    {
     "name": "stdout",
     "output_type": "stream",
     "text": [
      "RSME Value: 0.16962871259966145\n"
     ]
    }
   ],
   "source": [
    "# RSME\n",
    "print(f\"RSME Value: {eval_measures.rmse(train_y.astype('float64')['logerror'], predictions)}\")"
   ]
  },
  {
   "cell_type": "markdown",
   "metadata": {},
   "source": [
    "#### Part D - MAE"
   ]
  },
  {
   "cell_type": "code",
   "execution_count": 85,
   "metadata": {},
   "outputs": [
    {
     "name": "stdout",
     "output_type": "stream",
     "text": [
      "MAE Value: 0.07079062077353017\n"
     ]
    }
   ],
   "source": [
    "# MAE\n",
    "print(f\"MAE Value: {eval_measures.meanabs(train_y.astype('float64')['logerror'], predictions)}\")"
   ]
  },
  {
   "cell_type": "markdown",
   "metadata": {},
   "source": [
    "### Question 9 - Predicting on Validation Dataset"
   ]
  },
  {
   "cell_type": "code",
   "execution_count": 86,
   "metadata": {},
   "outputs": [],
   "source": [
    "val_x_values = val_X[['bathroomcnt', 'finishedsquarefeet6', 'bedroomcnt', 'lotsizesquarefeet', 'numberofstories']]\n",
    "X = sm.add_constant(val_x_values)\n",
    "predictions = model.predict(X)"
   ]
  },
  {
   "cell_type": "markdown",
   "metadata": {},
   "source": [
    "#### Part A - RSME\n",
    "#### Part B - MAE"
   ]
  },
  {
   "cell_type": "code",
   "execution_count": 87,
   "metadata": {},
   "outputs": [
    {
     "name": "stdout",
     "output_type": "stream",
     "text": [
      "RSME Value: 0.17339879609905648\n",
      "MAE Value: 0.0708643931876386\n"
     ]
    }
   ],
   "source": [
    "# RSME\n",
    "print(f\"RSME Value: {eval_measures.rmse(val_y.astype('float64')['logerror'], predictions)}\")\n",
    "# MAE\n",
    "print(f\"MAE Value: {eval_measures.meanabs(val_y.astype('float64')['logerror'], predictions)}\")"
   ]
  },
  {
   "cell_type": "markdown",
   "metadata": {},
   "source": [
    "#### Part C - generalizable\n",
    "- Not surprised that the values are somewhat consistent given a fairly close RSME and MAE value on validation data vs. training data\n",
    "- R2 seems so low it doesn't matter and the predictive nature isn't very valuable"
   ]
  },
  {
   "cell_type": "markdown",
   "metadata": {},
   "source": [
    "### Question 10 - Plot the logerror values"
   ]
  },
  {
   "cell_type": "code",
   "execution_count": 94,
   "metadata": {},
   "outputs": [
    {
     "data": {
      "image/png": "[encoded data removed]",
      "text/plain": [
       "<Figure size 2160x720 with 1 Axes>"
      ]
     },
     "metadata": {},
     "output_type": "display_data"
    }
   ],
   "source": [
    "plt.scatter(val_y['logerror'], predictions, color='green')\n",
    "plt.title(\"Plot of Regression Predictions\")\n",
    "plt.xlabel('Validation logerror')\n",
    "plt.ylabel('Predictions logerror')\n",
    "plt.show()\n"
   ]
  },
  {
   "cell_type": "markdown",
   "metadata": {},
   "source": [
    "### Question 11  - Correlation Matrix\n",
    "Note: I previously used this matrix to inform my choice in predictors"
   ]
  },
  {
   "cell_type": "markdown",
   "metadata": {},
   "source": [
    "numberofstories, lotsizesquarefeet, and bathroomcnt are all not too correlated with the logerror value and probably should have been left out of the model. There was a lot of correlation between obvious values like numberofstories and finishedsquarefeet6. I therefore could have used a different column to improve the accuracy."
   ]
  },
  {
   "cell_type": "code",
   "execution_count": 100,
   "metadata": {},
   "outputs": [
    {
     "data": {
      "text/html": [
       "<div>\n",
       "<style scoped>\n",
       "    .dataframe tbody tr th:only-of-type {\n",
       "        vertical-align: middle;\n",
       "    }\n",
       "\n",
       "    .dataframe tbody tr th {\n",
       "        vertical-align: top;\n",
       "    }\n",
       "\n",
       "    .dataframe thead th {\n",
       "        text-align: right;\n",
       "    }\n",
       "</style>\n",
       "<table border=\"1\" class=\"dataframe\">\n",
       "  <thead>\n",
       "    <tr style=\"text-align: right;\">\n",
       "      <th></th>\n",
       "      <th>bathroomcnt</th>\n",
       "      <th>finishedsquarefeet6</th>\n",
       "      <th>bedroomcnt</th>\n",
       "      <th>lotsizesquarefeet</th>\n",
       "      <th>numberofstories</th>\n",
       "      <th>logerror</th>\n",
       "    </tr>\n",
       "  </thead>\n",
       "  <tbody>\n",
       "    <tr>\n",
       "      <th>bathroomcnt</th>\n",
       "      <td>1.0000</td>\n",
       "      <td>-0.2876</td>\n",
       "      <td>0.6355</td>\n",
       "      <td>0.0025</td>\n",
       "      <td>0.3314</td>\n",
       "      <td>0.0258</td>\n",
       "    </tr>\n",
       "    <tr>\n",
       "      <th>finishedsquarefeet6</th>\n",
       "      <td>-0.2876</td>\n",
       "      <td>1.0000</td>\n",
       "      <td>-0.3395</td>\n",
       "      <td>0.1765</td>\n",
       "      <td>0.5158</td>\n",
       "      <td>0.0729</td>\n",
       "    </tr>\n",
       "    <tr>\n",
       "      <th>bedroomcnt</th>\n",
       "      <td>0.6355</td>\n",
       "      <td>-0.3395</td>\n",
       "      <td>1.0000</td>\n",
       "      <td>-0.1106</td>\n",
       "      <td>0.1629</td>\n",
       "      <td>0.0316</td>\n",
       "    </tr>\n",
       "    <tr>\n",
       "      <th>lotsizesquarefeet</th>\n",
       "      <td>0.0025</td>\n",
       "      <td>0.1765</td>\n",
       "      <td>-0.1106</td>\n",
       "      <td>1.0000</td>\n",
       "      <td>0.0061</td>\n",
       "      <td>0.0110</td>\n",
       "    </tr>\n",
       "    <tr>\n",
       "      <th>numberofstories</th>\n",
       "      <td>0.3314</td>\n",
       "      <td>0.5158</td>\n",
       "      <td>0.1629</td>\n",
       "      <td>0.0061</td>\n",
       "      <td>1.0000</td>\n",
       "      <td>0.0082</td>\n",
       "    </tr>\n",
       "    <tr>\n",
       "      <th>logerror</th>\n",
       "      <td>0.0258</td>\n",
       "      <td>0.0729</td>\n",
       "      <td>0.0316</td>\n",
       "      <td>0.0110</td>\n",
       "      <td>0.0082</td>\n",
       "      <td>1.0000</td>\n",
       "    </tr>\n",
       "  </tbody>\n",
       "</table>\n",
       "</div>"
      ],
      "text/plain": [
       "                     bathroomcnt  finishedsquarefeet6  bedroomcnt  lotsizesquarefeet  numberofstories  logerror\n",
       "bathroomcnt               1.0000              -0.2876      0.6355             0.0025           0.3314    0.0258\n",
       "finishedsquarefeet6      -0.2876               1.0000     -0.3395             0.1765           0.5158    0.0729\n",
       "bedroomcnt                0.6355              -0.3395      1.0000            -0.1106           0.1629    0.0316\n",
       "lotsizesquarefeet         0.0025               0.1765     -0.1106             1.0000           0.0061    0.0110\n",
       "numberofstories           0.3314               0.5158      0.1629             0.0061           1.0000    0.0082\n",
       "logerror                  0.0258               0.0729      0.0316             0.0110           0.0082    1.0000"
      ]
     },
     "execution_count": 100,
     "metadata": {},
     "output_type": "execute_result"
    }
   ],
   "source": [
    "_df[['bathroomcnt', 'finishedsquarefeet6', 'bedroomcnt', 'lotsizesquarefeet', 'numberofstories', 'logerror']].corr()"
   ]
  },
  {
   "cell_type": "markdown",
   "metadata": {},
   "source": [
    "### Question 13 - Improving the Model"
   ]
  },
  {
   "cell_type": "markdown",
   "metadata": {},
   "source": [
    "- I could definitely use the feature selection to limit the correlated variables that express the same informaiton.\n",
    "- I would defintiely consider some transformations to make the data more normal and have equal variance.\n",
    "- I might try to add in some of the categorical variables to the model as well. I limited my predictor variables to quantitative values only."
   ]
  },
  {
   "cell_type": "code",
   "execution_count": null,
   "metadata": {},
   "outputs": [],
   "source": []
  }
 ],
 "metadata": {
  "kernelspec": {
   "display_name": "Python 3",
   "language": "python",
   "name": "python3"
  },
  "language_info": {
   "codemirror_mode": {
    "name": "ipython",
    "version": 3
   },
   "file_extension": ".py",
   "mimetype": "text/x-python",
   "name": "python",
   "nbconvert_exporter": "python",
   "pygments_lexer": "ipython3",
   "version": "3.7.5"
  }
 },
 "nbformat": 4,
 "nbformat_minor": 2
}
